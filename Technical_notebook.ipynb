{
 "cells": [
  {
   "cell_type": "markdown",
   "metadata": {},
   "source": [
    "# TECHNICAL NOTEBOOK"
   ]
  },
  {
   "cell_type": "markdown",
   "metadata": {},
   "source": [
    "# Using Machine Learning and Natural Language Processing to predict stock price movements from article headlines\n",
    "\n",
    "## Research question\n",
    "\n",
    "Can we predict the <b>companies performance on the stockmarket based on the headlines</b> of the news articles?\n",
    "\n",
    "## Dataset\n",
    "\n",
    "For this project a retrieved headlines from WSJ online of 6 companies <b>between 2010/01/01 and 2019/11/22</b>, resulted altogether <b>7171 observations</b>.\n",
    "\n",
    "For labeling the dataset I used daily stockprices which are available on Yahoo Finance.\n",
    "\n",
    "The performance was <b>good</b>, if the closed stock price compared to the previous day was better the S&P500 average. \n",
    "\n",
    "The performance was <b>bad</b>, if that ration was less than the S&P500 average.\n",
    "\n",
    "## Findings\n",
    "\n",
    "*\n",
    "*\n"
   ]
  },
  {
   "cell_type": "code",
   "execution_count": 108,
   "metadata": {},
   "outputs": [],
   "source": [
    "import pandas as pd\n",
    "import numpy as np"
   ]
  },
  {
   "cell_type": "markdown",
   "metadata": {},
   "source": [
    "## Importing the dataset"
   ]
  },
  {
   "cell_type": "code",
   "execution_count": 109,
   "metadata": {},
   "outputs": [],
   "source": [
    "X_train = pd.read_csv('data/train_x.csv')\n",
    "y_train = pd.read_csv('data/train_y.csv', header=-1)\n",
    "X_test = pd.read_csv('data/test_x.csv')\n",
    "y_test = pd.read_csv('data/test_y.csv', header=-1)"
   ]
  },
  {
   "cell_type": "code",
   "execution_count": 110,
   "metadata": {},
   "outputs": [],
   "source": [
    "# create our training data list - this is a list of text of headlines/summaries\n",
    "train_data = X_train['tokens'].to_list()\n",
    "test_data = X_test['tokens'].to_list()"
   ]
  },
  {
   "cell_type": "code",
   "execution_count": 111,
   "metadata": {},
   "outputs": [
    {
     "name": "stdout",
     "output_type": "stream",
     "text": [
      "Number of train data:  5736\n",
      "Number of test data:   1435\n"
     ]
    }
   ],
   "source": [
    "print('Number of train data: ',len(train_data))\n",
    "print('Number of test data:  ',len(test_data))"
   ]
  },
  {
   "cell_type": "markdown",
   "metadata": {},
   "source": [
    "## Countvectorizer\n",
    "\n",
    "Here I instantiate a CountVectorizer. This counts the number of appearances of all the words in our training data. During the preprocessing stopword were removed and text was tokenized."
   ]
  },
  {
   "cell_type": "code",
   "execution_count": 113,
   "metadata": {},
   "outputs": [
    {
     "name": "stdout",
     "output_type": "stream",
     "text": [
      "Shape of train_data:  (5736, 5000) \n",
      "Shape of test_data:   (1435, 5000)\n"
     ]
    }
   ],
   "source": [
    "from sklearn.feature_extraction.text import CountVectorizer\n",
    "\n",
    "vectorizer = CountVectorizer(analyzer=\"word\",\n",
    "                             tokenizer=None,\n",
    "                             preprocessor=None,\n",
    "                             max_features=5000,\n",
    "                             ngram_range=(1, 3))\n",
    "\n",
    "train_data_features = vectorizer.fit_transform(train_data).toarray()\n",
    "test_data_features = vectorizer.transform(test_data).toarray()\n",
    "\n",
    "# check shapes\n",
    "print('Shape of train_data: ', train_data_features.shape,\n",
    "      '\\nShape of test_data:  ', test_data_features.shape)"
   ]
  },
  {
   "cell_type": "code",
   "execution_count": 114,
   "metadata": {},
   "outputs": [],
   "source": [
    "vocab = vectorizer.get_feature_names()"
   ]
  },
  {
   "cell_type": "code",
   "execution_count": 125,
   "metadata": {},
   "outputs": [
    {
     "data": {
      "text/plain": [
       "bad     0.517608\n",
       "good    0.482392\n",
       "Name: 0, dtype: float64"
      ]
     },
     "execution_count": 125,
     "metadata": {},
     "output_type": "execute_result"
    }
   ],
   "source": [
    "y_train[0].value_counts(normalize=True)"
   ]
  },
  {
   "cell_type": "code",
   "execution_count": 126,
   "metadata": {},
   "outputs": [
    {
     "data": {
      "text/plain": [
       "bad     0.51777\n",
       "good    0.48223\n",
       "Name: 0, dtype: float64"
      ]
     },
     "execution_count": 126,
     "metadata": {},
     "output_type": "execute_result"
    }
   ],
   "source": [
    "y_test[0].value_counts(normalize=True)"
   ]
  },
  {
   "cell_type": "code",
   "execution_count": 127,
   "metadata": {},
   "outputs": [
    {
     "name": "stdout",
     "output_type": "stream",
     "text": [
      "Shape of train target:  (5736,) \n",
      "Shape of test target:   (1435,)\n"
     ]
    }
   ],
   "source": [
    "#restructure the target variable\n",
    "y_train = y_train.iloc[:,0].ravel()\n",
    "y_test = y_test.iloc[:,0].ravel()\n",
    "\n",
    "#check the shapes of target variable\n",
    "print('Shape of train target: ', y_train.shape,\n",
    "      '\\nShape of test target:  ', y_test.shape)"
   ]
  },
  {
   "cell_type": "markdown",
   "metadata": {},
   "source": [
    "## Logistic Regression"
   ]
  },
  {
   "cell_type": "code",
   "execution_count": 128,
   "metadata": {},
   "outputs": [
    {
     "name": "stderr",
     "output_type": "stream",
     "text": [
      "//anaconda3/lib/python3.7/site-packages/sklearn/linear_model/logistic.py:947: ConvergenceWarning: lbfgs failed to converge. Increase the number of iterations.\n",
      "  \"of iterations.\", ConvergenceWarning)\n"
     ]
    },
    {
     "name": "stdout",
     "output_type": "stream",
     "text": [
      "Train accuracy score: 0.994\n",
      "Test accuracy score: 0.524\n"
     ]
    }
   ],
   "source": [
    "from sklearn.linear_model import LogisticRegression\n",
    "\n",
    "# Perform baseline logistic regression\n",
    "logreg_base = LogisticRegression(C = 1e9, \n",
    "                                 solver='lbfgs', \n",
    "                                 max_iter=1000, \n",
    "                                 penalty='l2',\n",
    "                                 random_state=110)\n",
    "\n",
    "logreg_base.fit(train_data_features, y_train)\n",
    "\n",
    "print('Train accuracy score:',f'{logreg_base.score(train_data_features, y_train):.3f}')\n",
    "print('Test accuracy score:',f'{logreg_base.score(test_data_features, y_test):.3f}')"
   ]
  },
  {
   "cell_type": "code",
   "execution_count": 129,
   "metadata": {},
   "outputs": [
    {
     "name": "stdout",
     "output_type": "stream",
     "text": [
      "Fitting 5 folds for each of 1 candidates, totalling 5 fits\n"
     ]
    },
    {
     "name": "stderr",
     "output_type": "stream",
     "text": [
      "[Parallel(n_jobs=-1)]: Using backend LokyBackend with 4 concurrent workers.\n",
      "[Parallel(n_jobs=-1)]: Done   5 out of   5 | elapsed:   17.7s finished\n"
     ]
    },
    {
     "name": "stdout",
     "output_type": "stream",
     "text": [
      "Best parameters: {'C': 0.01, 'penalty': 'l2', 'solver': 'lbfgs'}\n",
      "Best score: 0.532\n",
      "Test score: 0.524\n"
     ]
    }
   ],
   "source": [
    "from sklearn.model_selection import GridSearchCV\n",
    "\n",
    "# gridsearch original parameters:\n",
    "params = {'C': np.logspace(-2, 4, 7),\n",
    "          'penalty': ['l1', 'l2'],\n",
    "          'solver': ['lbfgs']\n",
    "          }\n",
    "\n",
    "# gridsearch best parameters:\n",
    "params = {'C': [0.01],\n",
    "          'penalty': ['l2'],\n",
    "          'solver': ['lbfgs']\n",
    "          }\n",
    "\n",
    "logreg_grid = GridSearchCV(estimator=LogisticRegression(random_state=123),\n",
    "                           param_grid=params,\n",
    "                           scoring='accuracy',\n",
    "                           refit='accuracy',\n",
    "                           return_train_score = True,\n",
    "                           cv=5, verbose=2, n_jobs=-1)\n",
    "\n",
    "#fit the model\n",
    "logreg_grid.fit(train_data_features, y_train)\n",
    "\n",
    "#priting out the result\n",
    "print(f'Best parameters: {logreg_grid.best_params_}')\n",
    "print(f'Best score: {logreg_grid.best_score_:.3f}')\n",
    "print(f'Test score: {logreg_grid.best_estimator_.score(test_data_features, y_test):.3f}')"
   ]
  },
  {
   "cell_type": "code",
   "execution_count": 135,
   "metadata": {},
   "outputs": [
    {
     "data": {
      "text/plain": [
       "(1, 5000)"
      ]
     },
     "execution_count": 135,
     "metadata": {},
     "output_type": "execute_result"
    }
   ],
   "source": [
    "logreg_grid.best_estimator_.coef_"
   ]
  },
  {
   "cell_type": "code",
   "execution_count": 141,
   "metadata": {},
   "outputs": [
    {
     "data": {
      "text/html": [
       "<div>\n",
       "<style scoped>\n",
       "    .dataframe tbody tr th:only-of-type {\n",
       "        vertical-align: middle;\n",
       "    }\n",
       "\n",
       "    .dataframe tbody tr th {\n",
       "        vertical-align: top;\n",
       "    }\n",
       "\n",
       "    .dataframe thead th {\n",
       "        text-align: right;\n",
       "    }\n",
       "</style>\n",
       "<table border=\"1\" class=\"dataframe\">\n",
       "  <thead>\n",
       "    <tr style=\"text-align: right;\">\n",
       "      <th></th>\n",
       "      <th>features</th>\n",
       "      <th>coefs</th>\n",
       "    </tr>\n",
       "  </thead>\n",
       "  <tbody>\n",
       "    <tr>\n",
       "      <th>1574</th>\n",
       "      <td>entrepreneur</td>\n",
       "      <td>0.049372</td>\n",
       "    </tr>\n",
       "    <tr>\n",
       "      <th>125</th>\n",
       "      <td>777</td>\n",
       "      <td>0.049542</td>\n",
       "    </tr>\n",
       "    <tr>\n",
       "      <th>832</th>\n",
       "      <td>canada</td>\n",
       "      <td>0.049562</td>\n",
       "    </tr>\n",
       "    <tr>\n",
       "      <th>2309</th>\n",
       "      <td>hundreds</td>\n",
       "      <td>0.049853</td>\n",
       "    </tr>\n",
       "    <tr>\n",
       "      <th>1102</th>\n",
       "      <td>confidence</td>\n",
       "      <td>0.049872</td>\n",
       "    </tr>\n",
       "    <tr>\n",
       "      <th>751</th>\n",
       "      <td>brand</td>\n",
       "      <td>0.050129</td>\n",
       "    </tr>\n",
       "    <tr>\n",
       "      <th>675</th>\n",
       "      <td>boeing 787 dreamliners</td>\n",
       "      <td>0.050210</td>\n",
       "    </tr>\n",
       "    <tr>\n",
       "      <th>1530</th>\n",
       "      <td>electrolux</td>\n",
       "      <td>0.050747</td>\n",
       "    </tr>\n",
       "    <tr>\n",
       "      <th>2524</th>\n",
       "      <td>job</td>\n",
       "      <td>0.050835</td>\n",
       "    </tr>\n",
       "    <tr>\n",
       "      <th>1864</th>\n",
       "      <td>flights</td>\n",
       "      <td>0.050962</td>\n",
       "    </tr>\n",
       "    <tr>\n",
       "      <th>3530</th>\n",
       "      <td>profit</td>\n",
       "      <td>0.051270</td>\n",
       "    </tr>\n",
       "    <tr>\n",
       "      <th>2660</th>\n",
       "      <td>left</td>\n",
       "      <td>0.051384</td>\n",
       "    </tr>\n",
       "    <tr>\n",
       "      <th>4617</th>\n",
       "      <td>tourre</td>\n",
       "      <td>0.051793</td>\n",
       "    </tr>\n",
       "    <tr>\n",
       "      <th>2780</th>\n",
       "      <td>machines</td>\n",
       "      <td>0.051950</td>\n",
       "    </tr>\n",
       "    <tr>\n",
       "      <th>4057</th>\n",
       "      <td>senior</td>\n",
       "      <td>0.052396</td>\n",
       "    </tr>\n",
       "    <tr>\n",
       "      <th>2733</th>\n",
       "      <td>long range</td>\n",
       "      <td>0.052610</td>\n",
       "    </tr>\n",
       "    <tr>\n",
       "      <th>3276</th>\n",
       "      <td>orders</td>\n",
       "      <td>0.052629</td>\n",
       "    </tr>\n",
       "    <tr>\n",
       "      <th>397</th>\n",
       "      <td>appeals</td>\n",
       "      <td>0.053043</td>\n",
       "    </tr>\n",
       "    <tr>\n",
       "      <th>2218</th>\n",
       "      <td>head</td>\n",
       "      <td>0.054075</td>\n",
       "    </tr>\n",
       "    <tr>\n",
       "      <th>1851</th>\n",
       "      <td>fixes</td>\n",
       "      <td>0.054161</td>\n",
       "    </tr>\n",
       "    <tr>\n",
       "      <th>1227</th>\n",
       "      <td>dan</td>\n",
       "      <td>0.054235</td>\n",
       "    </tr>\n",
       "    <tr>\n",
       "      <th>2050</th>\n",
       "      <td>general electric</td>\n",
       "      <td>0.054747</td>\n",
       "    </tr>\n",
       "    <tr>\n",
       "      <th>3528</th>\n",
       "      <td>products</td>\n",
       "      <td>0.054814</td>\n",
       "    </tr>\n",
       "    <tr>\n",
       "      <th>765</th>\n",
       "      <td>british</td>\n",
       "      <td>0.054880</td>\n",
       "    </tr>\n",
       "    <tr>\n",
       "      <th>4463</th>\n",
       "      <td>taking</td>\n",
       "      <td>0.055085</td>\n",
       "    </tr>\n",
       "    <tr>\n",
       "      <th>1829</th>\n",
       "      <td>first</td>\n",
       "      <td>0.055248</td>\n",
       "    </tr>\n",
       "    <tr>\n",
       "      <th>534</th>\n",
       "      <td>bankers</td>\n",
       "      <td>0.055541</td>\n",
       "    </tr>\n",
       "    <tr>\n",
       "      <th>2160</th>\n",
       "      <td>greater</td>\n",
       "      <td>0.055798</td>\n",
       "    </tr>\n",
       "    <tr>\n",
       "      <th>411</th>\n",
       "      <td>approval</td>\n",
       "      <td>0.055836</td>\n",
       "    </tr>\n",
       "    <tr>\n",
       "      <th>1154</th>\n",
       "      <td>corp</td>\n",
       "      <td>0.056218</td>\n",
       "    </tr>\n",
       "    <tr>\n",
       "      <th>4126</th>\n",
       "      <td>show</td>\n",
       "      <td>0.056261</td>\n",
       "    </tr>\n",
       "    <tr>\n",
       "      <th>2822</th>\n",
       "      <td>manager</td>\n",
       "      <td>0.056428</td>\n",
       "    </tr>\n",
       "    <tr>\n",
       "      <th>4038</th>\n",
       "      <td>self</td>\n",
       "      <td>0.057231</td>\n",
       "    </tr>\n",
       "    <tr>\n",
       "      <th>403</th>\n",
       "      <td>appliance</td>\n",
       "      <td>0.057260</td>\n",
       "    </tr>\n",
       "    <tr>\n",
       "      <th>398</th>\n",
       "      <td>appeals court</td>\n",
       "      <td>0.057289</td>\n",
       "    </tr>\n",
       "    <tr>\n",
       "      <th>2267</th>\n",
       "      <td>hired</td>\n",
       "      <td>0.057511</td>\n",
       "    </tr>\n",
       "    <tr>\n",
       "      <th>570</th>\n",
       "      <td>began</td>\n",
       "      <td>0.057643</td>\n",
       "    </tr>\n",
       "    <tr>\n",
       "      <th>4092</th>\n",
       "      <td>settlement</td>\n",
       "      <td>0.058040</td>\n",
       "    </tr>\n",
       "    <tr>\n",
       "      <th>3281</th>\n",
       "      <td>others</td>\n",
       "      <td>0.058765</td>\n",
       "    </tr>\n",
       "    <tr>\n",
       "      <th>1391</th>\n",
       "      <td>division</td>\n",
       "      <td>0.058975</td>\n",
       "    </tr>\n",
       "    <tr>\n",
       "      <th>3455</th>\n",
       "      <td>potential</td>\n",
       "      <td>0.059377</td>\n",
       "    </tr>\n",
       "    <tr>\n",
       "      <th>3093</th>\n",
       "      <td>neil</td>\n",
       "      <td>0.059664</td>\n",
       "    </tr>\n",
       "    <tr>\n",
       "      <th>1228</th>\n",
       "      <td>dan neil</td>\n",
       "      <td>0.059664</td>\n",
       "    </tr>\n",
       "    <tr>\n",
       "      <th>4042</th>\n",
       "      <td>sell</td>\n",
       "      <td>0.060125</td>\n",
       "    </tr>\n",
       "    <tr>\n",
       "      <th>3390</th>\n",
       "      <td>plane</td>\n",
       "      <td>0.061148</td>\n",
       "    </tr>\n",
       "    <tr>\n",
       "      <th>1024</th>\n",
       "      <td>co</td>\n",
       "      <td>0.061539</td>\n",
       "    </tr>\n",
       "    <tr>\n",
       "      <th>876</th>\n",
       "      <td>cash</td>\n",
       "      <td>0.061756</td>\n",
       "    </tr>\n",
       "    <tr>\n",
       "      <th>2906</th>\n",
       "      <td>merger</td>\n",
       "      <td>0.063584</td>\n",
       "    </tr>\n",
       "    <tr>\n",
       "      <th>2601</th>\n",
       "      <td>larger</td>\n",
       "      <td>0.063603</td>\n",
       "    </tr>\n",
       "    <tr>\n",
       "      <th>2565</th>\n",
       "      <td>keep</td>\n",
       "      <td>0.063974</td>\n",
       "    </tr>\n",
       "  </tbody>\n",
       "</table>\n",
       "</div>"
      ],
      "text/plain": [
       "                    features     coefs\n",
       "1574            entrepreneur  0.049372\n",
       "125                      777  0.049542\n",
       "832                   canada  0.049562\n",
       "2309                hundreds  0.049853\n",
       "1102              confidence  0.049872\n",
       "751                    brand  0.050129\n",
       "675   boeing 787 dreamliners  0.050210\n",
       "1530              electrolux  0.050747\n",
       "2524                     job  0.050835\n",
       "1864                 flights  0.050962\n",
       "3530                  profit  0.051270\n",
       "2660                    left  0.051384\n",
       "4617                  tourre  0.051793\n",
       "2780                machines  0.051950\n",
       "4057                  senior  0.052396\n",
       "2733              long range  0.052610\n",
       "3276                  orders  0.052629\n",
       "397                  appeals  0.053043\n",
       "2218                    head  0.054075\n",
       "1851                   fixes  0.054161\n",
       "1227                     dan  0.054235\n",
       "2050        general electric  0.054747\n",
       "3528                products  0.054814\n",
       "765                  british  0.054880\n",
       "4463                  taking  0.055085\n",
       "1829                   first  0.055248\n",
       "534                  bankers  0.055541\n",
       "2160                 greater  0.055798\n",
       "411                 approval  0.055836\n",
       "1154                    corp  0.056218\n",
       "4126                    show  0.056261\n",
       "2822                 manager  0.056428\n",
       "4038                    self  0.057231\n",
       "403                appliance  0.057260\n",
       "398            appeals court  0.057289\n",
       "2267                   hired  0.057511\n",
       "570                    began  0.057643\n",
       "4092              settlement  0.058040\n",
       "3281                  others  0.058765\n",
       "1391                division  0.058975\n",
       "3455               potential  0.059377\n",
       "3093                    neil  0.059664\n",
       "1228                dan neil  0.059664\n",
       "4042                    sell  0.060125\n",
       "3390                   plane  0.061148\n",
       "1024                      co  0.061539\n",
       "876                     cash  0.061756\n",
       "2906                  merger  0.063584\n",
       "2601                  larger  0.063603\n",
       "2565                    keep  0.063974"
      ]
     },
     "execution_count": 141,
     "metadata": {},
     "output_type": "execute_result"
    }
   ],
   "source": [
    "coef_df = pd.DataFrame({'features': vocab,\n",
    "                        'coefs': logreg_grid.best_estimator_.coef_[0]})\n",
    "coef_df = coef_df.sort_values(by = 'coefs')\n",
    "coef_df.iloc[-100:-50]"
   ]
  },
  {
   "cell_type": "markdown",
   "metadata": {},
   "source": [
    "## Random Forest"
   ]
  },
  {
   "cell_type": "code",
   "execution_count": 131,
   "metadata": {},
   "outputs": [
    {
     "name": "stdout",
     "output_type": "stream",
     "text": [
      "Fitting 5 folds for each of 160 candidates, totalling 800 fits\n"
     ]
    },
    {
     "name": "stderr",
     "output_type": "stream",
     "text": [
      "[Parallel(n_jobs=-1)]: Using backend LokyBackend with 4 concurrent workers.\n",
      "[Parallel(n_jobs=-1)]: Done  33 tasks      | elapsed:   42.7s\n",
      "[Parallel(n_jobs=-1)]: Done 154 tasks      | elapsed:  3.0min\n",
      "[Parallel(n_jobs=-1)]: Done 357 tasks      | elapsed:  9.2min\n",
      "[Parallel(n_jobs=-1)]: Done 640 tasks      | elapsed: 16.9min\n",
      "[Parallel(n_jobs=-1)]: Done 800 out of 800 | elapsed: 22.8min finished\n"
     ]
    },
    {
     "name": "stdout",
     "output_type": "stream",
     "text": [
      "Best parameters: {'criterion': 'gini', 'max_depth': 10, 'max_features': 50, 'n_estimators': 100}\n",
      "Best score: 0.526\n",
      "Test score: 0.530\n"
     ]
    }
   ],
   "source": [
    "from sklearn.ensemble import RandomForestClassifier\n",
    "\n",
    "params = {'n_estimators': [10, 100, 200, 500],\n",
    "          'criterion': ['gini', 'entropy'],\n",
    "          'max_depth': [2, 4, 6, 8, 10],\n",
    "          'max_features': [5, 10, 20, 50]}\n",
    "\n",
    "forest_grid = GridSearchCV(estimator=RandomForestClassifier(random_state=110),\n",
    "                           param_grid=params,\n",
    "                           scoring='accuracy',\n",
    "                           refit='accuracy',\n",
    "                           return_train_score=True,\n",
    "                           cv=5, verbose=2, n_jobs=-1)\n",
    "\n",
    "forest_grid.fit(train_data_features, y_train)\n",
    "\n",
    "#priting out the result\n",
    "print(f'Best parameters: {forest_grid.best_params_}')\n",
    "print(f'Best score: {forest_grid.best_score_:.3f}')\n",
    "print(f'Test score: {forest_grid.best_estimator_.score(test_data_features, y_test):.3f}')"
   ]
  },
  {
   "cell_type": "code",
   "execution_count": 133,
   "metadata": {},
   "outputs": [
    {
     "data": {
      "text/html": [
       "<div>\n",
       "<style scoped>\n",
       "    .dataframe tbody tr th:only-of-type {\n",
       "        vertical-align: middle;\n",
       "    }\n",
       "\n",
       "    .dataframe tbody tr th {\n",
       "        vertical-align: top;\n",
       "    }\n",
       "\n",
       "    .dataframe thead th {\n",
       "        text-align: right;\n",
       "    }\n",
       "</style>\n",
       "<table border=\"1\" class=\"dataframe\">\n",
       "  <thead>\n",
       "    <tr style=\"text-align: right;\">\n",
       "      <th></th>\n",
       "      <th>Feature</th>\n",
       "      <th>Importance</th>\n",
       "    </tr>\n",
       "  </thead>\n",
       "  <tbody>\n",
       "    <tr>\n",
       "      <th>4867</th>\n",
       "      <td>warning</td>\n",
       "      <td>0.008855</td>\n",
       "    </tr>\n",
       "    <tr>\n",
       "      <th>2003</th>\n",
       "      <td>funds</td>\n",
       "      <td>0.007882</td>\n",
       "    </tr>\n",
       "    <tr>\n",
       "      <th>4291</th>\n",
       "      <td>start</td>\n",
       "      <td>0.006501</td>\n",
       "    </tr>\n",
       "    <tr>\n",
       "      <th>2881</th>\n",
       "      <td>may</td>\n",
       "      <td>0.005483</td>\n",
       "    </tr>\n",
       "    <tr>\n",
       "      <th>4739</th>\n",
       "      <td>unit general electric</td>\n",
       "      <td>0.005211</td>\n",
       "    </tr>\n",
       "    <tr>\n",
       "      <th>1754</th>\n",
       "      <td>federal appeals court</td>\n",
       "      <td>0.004926</td>\n",
       "    </tr>\n",
       "    <tr>\n",
       "      <th>3650</th>\n",
       "      <td>range</td>\n",
       "      <td>0.004660</td>\n",
       "    </tr>\n",
       "    <tr>\n",
       "      <th>473</th>\n",
       "      <td>auto</td>\n",
       "      <td>0.004453</td>\n",
       "    </tr>\n",
       "    <tr>\n",
       "      <th>1753</th>\n",
       "      <td>federal appeals</td>\n",
       "      <td>0.003743</td>\n",
       "    </tr>\n",
       "    <tr>\n",
       "      <th>3093</th>\n",
       "      <td>neil</td>\n",
       "      <td>0.003726</td>\n",
       "    </tr>\n",
       "    <tr>\n",
       "      <th>552</th>\n",
       "      <td>battery</td>\n",
       "      <td>0.003697</td>\n",
       "    </tr>\n",
       "    <tr>\n",
       "      <th>3102</th>\n",
       "      <td>new</td>\n",
       "      <td>0.003543</td>\n",
       "    </tr>\n",
       "    <tr>\n",
       "      <th>4467</th>\n",
       "      <td>talks</td>\n",
       "      <td>0.003503</td>\n",
       "    </tr>\n",
       "    <tr>\n",
       "      <th>535</th>\n",
       "      <td>banking</td>\n",
       "      <td>0.003468</td>\n",
       "    </tr>\n",
       "    <tr>\n",
       "      <th>4738</th>\n",
       "      <td>unit general</td>\n",
       "      <td>0.003400</td>\n",
       "    </tr>\n",
       "    <tr>\n",
       "      <th>106</th>\n",
       "      <td>737 max</td>\n",
       "      <td>0.003383</td>\n",
       "    </tr>\n",
       "    <tr>\n",
       "      <th>3096</th>\n",
       "      <td>net income</td>\n",
       "      <td>0.003235</td>\n",
       "    </tr>\n",
       "    <tr>\n",
       "      <th>1391</th>\n",
       "      <td>division</td>\n",
       "      <td>0.003176</td>\n",
       "    </tr>\n",
       "    <tr>\n",
       "      <th>3718</th>\n",
       "      <td>rejected</td>\n",
       "      <td>0.003125</td>\n",
       "    </tr>\n",
       "    <tr>\n",
       "      <th>1845</th>\n",
       "      <td>five</td>\n",
       "      <td>0.003115</td>\n",
       "    </tr>\n",
       "  </tbody>\n",
       "</table>\n",
       "</div>"
      ],
      "text/plain": [
       "                    Feature  Importance\n",
       "4867                warning    0.008855\n",
       "2003                  funds    0.007882\n",
       "4291                  start    0.006501\n",
       "2881                    may    0.005483\n",
       "4739  unit general electric    0.005211\n",
       "1754  federal appeals court    0.004926\n",
       "3650                  range    0.004660\n",
       "473                    auto    0.004453\n",
       "1753        federal appeals    0.003743\n",
       "3093                   neil    0.003726\n",
       "552                 battery    0.003697\n",
       "3102                    new    0.003543\n",
       "4467                  talks    0.003503\n",
       "535                 banking    0.003468\n",
       "4738           unit general    0.003400\n",
       "106                 737 max    0.003383\n",
       "3096             net income    0.003235\n",
       "1391               division    0.003176\n",
       "3718               rejected    0.003125\n",
       "1845                   five    0.003115"
      ]
     },
     "execution_count": 133,
     "metadata": {},
     "output_type": "execute_result"
    }
   ],
   "source": [
    "feat_imp_forest = pd.DataFrame(zip(vocab, forest_grid.best_estimator_.feature_importances_), \n",
    "                        columns=['Feature', 'Importance'])\n",
    "feat_imp_forest.sort_values(by='Importance', ascending=False, inplace=True)\n",
    "feat_imp_forest.head(20)"
   ]
  },
  {
   "cell_type": "code",
   "execution_count": null,
   "metadata": {},
   "outputs": [],
   "source": []
  }
 ],
 "metadata": {
  "kernelspec": {
   "display_name": "Python 3",
   "language": "python",
   "name": "python3"
  },
  "language_info": {
   "codemirror_mode": {
    "name": "ipython",
    "version": 3
   },
   "file_extension": ".py",
   "mimetype": "text/x-python",
   "name": "python",
   "nbconvert_exporter": "python",
   "pygments_lexer": "ipython3",
   "version": "3.7.3"
  },
  "varInspector": {
   "cols": {
    "lenName": 16,
    "lenType": 16,
    "lenVar": 40
   },
   "kernels_config": {
    "python": {
     "delete_cmd_postfix": "",
     "delete_cmd_prefix": "del ",
     "library": "var_list.py",
     "varRefreshCmd": "print(var_dic_list())"
    },
    "r": {
     "delete_cmd_postfix": ") ",
     "delete_cmd_prefix": "rm(",
     "library": "var_list.r",
     "varRefreshCmd": "cat(var_dic_list()) "
    }
   },
   "types_to_exclude": [
    "module",
    "function",
    "builtin_function_or_method",
    "instance",
    "_Feature"
   ],
   "window_display": false
  }
 },
 "nbformat": 4,
 "nbformat_minor": 2
}
