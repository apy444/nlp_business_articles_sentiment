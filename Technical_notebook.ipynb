{
 "cells": [
  {
   "cell_type": "markdown",
   "metadata": {},
   "source": [
    "# TECHNICAL NOTEBOOK"
   ]
  },
  {
   "cell_type": "markdown",
   "metadata": {},
   "source": [
    "# Using Machine Learning and Natural Language Processing to predict stock price movements from article headlines\n",
    "\n",
    "## Research question\n",
    "\n",
    "Can we predict the <b>companies performance on the stockmarket based on the headlines</b> of the news articles?\n",
    "\n",
    "## Dataset\n",
    "\n",
    "For this project I retrieved headlines from WSJ online of 6 companies <b>between 2010/01/01 and 2019/11/22</b>, after preprocessing I got <b>??? observations</b>.\n",
    "\n",
    "For labeling the dataset I used daily stockprices which are available on Yahoo Finance.\n",
    "\n",
    "The performance was <b>good</b>, if the closed stock price compared to the previous day was 0.5 %point better the S&P500 average. \n",
    "\n",
    "The performance was <b>bad</b>, if that stock performance was 0.5 %point worse than the S&P500 average.\n",
    "\n",
    "## Modeling\n",
    "\n",
    "The following Machine Learning algorithms was used to make predictions:\n",
    "\n",
    "- Naive Bayes Model using NLTK library\n",
    "- Logistic Regression\n",
    "- K-Nearest Neighbors\n",
    "- XG Boosting\n",
    "- Support Vector Machine\n",
    "- Multinomial Naive Bayes Model\n",
    "- Bernoulli Naive Bayes Model\n",
    "\n",
    "\n",
    "## Findings\n",
    "\n",
    "*\n",
    "*\n"
   ]
  },
  {
   "cell_type": "code",
   "execution_count": 19,
   "metadata": {
    "ExecuteTime": {
     "end_time": "2019-11-27T02:18:10.314793Z",
     "start_time": "2019-11-27T02:18:09.600383Z"
    }
   },
   "outputs": [],
   "source": [
    "from sklearn.model_selection import GridSearchCV\n",
    "import pandas as pd\n",
    "import numpy as np\n",
    "import pickle\n",
    "import nltk"
   ]
  },
  {
   "cell_type": "markdown",
   "metadata": {},
   "source": [
    "## Importing the dataset"
   ]
  },
  {
   "cell_type": "code",
   "execution_count": 8,
   "metadata": {
    "ExecuteTime": {
     "end_time": "2019-11-27T02:18:13.358135Z",
     "start_time": "2019-11-27T02:18:13.225985Z"
    }
   },
   "outputs": [],
   "source": [
    "train = pd.read_csv('data/train5.csv')\n",
    "test = pd.read_csv('data/test5.csv')"
   ]
  },
  {
   "cell_type": "code",
   "execution_count": 9,
   "metadata": {
    "ExecuteTime": {
     "end_time": "2019-11-27T02:18:17.031151Z",
     "start_time": "2019-11-27T02:18:17.026507Z"
    }
   },
   "outputs": [],
   "source": [
    "# create our training data list - this is a list of text of headlines/summaries\n",
    "train_data = train['tokens']\n",
    "test_data = test['tokens']"
   ]
  },
  {
   "cell_type": "code",
   "execution_count": 10,
   "metadata": {
    "ExecuteTime": {
     "end_time": "2019-11-27T02:18:24.720365Z",
     "start_time": "2019-11-27T02:18:24.712119Z"
    }
   },
   "outputs": [
    {
     "name": "stdout",
     "output_type": "stream",
     "text": [
      "Number of train data:  1412\n",
      "Number of test data:   354\n"
     ]
    }
   ],
   "source": [
    "print('Number of train data: ',len(train_data))\n",
    "print('Number of test data:  ',len(test_data))"
   ]
  },
  {
   "cell_type": "markdown",
   "metadata": {},
   "source": [
    "## Vectorizing text features\n",
    "\n"
   ]
  },
  {
   "cell_type": "markdown",
   "metadata": {},
   "source": [
    "Tfidf stands for: Term Frequency (times) Inverse Document Frequency. In math notation, Tfidf features are computed as\n",
    "\n",
    "tf(t, d) \\times idf(t) ,\n",
    "\n",
    "where t is the term (a word in this case), d is the document (a randomly generated string), and tf is a function which counts the number of occurences of t in d. The idf function is computed as\n",
    "\n",
    "\\log{\\frac{1+n_{d}}{1+df(d, t)}}+1 ,\n",
    "\n",
    "where n_{d} is the total number of documents and df(t) is the number of documents that contain t.\n",
    "\n",
    "A more advanced method is the **TF-IDF vectorizer**. This is an acronym that stands for “Term Frequency – Inverse Document Frequency\" which are the components of the resulting scores assigned to each word. This vectorizer result an inverse frequency, the most frequent words get the lowest score.\n",
    "\n",
    "**Term Frequency:** This summarizes how often a given word appears within a document.\n",
    "\n",
    "**Inverse Document Frequency:** This downscales words that appear a lot across documents."
   ]
  },
  {
   "cell_type": "code",
   "execution_count": 11,
   "metadata": {},
   "outputs": [
    {
     "name": "stdout",
     "output_type": "stream",
     "text": [
      "Shape of train_data:  (1412, 5000) \n",
      "Shape of test_data:   (354, 5000)\n"
     ]
    }
   ],
   "source": [
    "from sklearn.feature_extraction.text import TfidfVectorizer\n",
    "\n",
    "tfidf_vectorizer = TfidfVectorizer(analyzer=\"word\",\n",
    "                                   tokenizer=None,\n",
    "                                   preprocessor=None,\n",
    "                                   max_features=5000,\n",
    "                                   ngram_range=(1, 2))\n",
    "\n",
    "train_data_features = tfidf_vectorizer.fit_transform(train_data).toarray()\n",
    "test_data_features = tfidf_vectorizer.transform(test_data).toarray()\n",
    "\n",
    "# check shapes\n",
    "print('Shape of train_data: ', train_data_features.shape,\n",
    "      '\\nShape of test_data:  ', test_data_features.shape)"
   ]
  },
  {
   "cell_type": "code",
   "execution_count": 12,
   "metadata": {},
   "outputs": [],
   "source": [
    "vocab_tfidf = tfidf_vectorizer.get_feature_names()\n",
    "# tfidf_vectorizer.idf_ #inverse document frequency\n",
    "tfidf_df = pd.DataFrame(tfidf_vectorizer.idf_, index=vocab_tfidf)"
   ]
  },
  {
   "cell_type": "code",
   "execution_count": 13,
   "metadata": {
    "ExecuteTime": {
     "end_time": "2019-11-27T02:18:54.823240Z",
     "start_time": "2019-11-27T02:18:54.816011Z"
    }
   },
   "outputs": [
    {
     "name": "stdout",
     "output_type": "stream",
     "text": [
      "Shape of train target:  (1412,) \n",
      "Shape of test target:   (354,)\n"
     ]
    }
   ],
   "source": [
    "#restructure the target variable\n",
    "y_train = train.label\n",
    "y_test = test.label\n",
    "\n",
    "#check the shapes of target variable\n",
    "print('Shape of train target: ', y_train.shape,\n",
    "      '\\nShape of test target:  ', y_test.shape)"
   ]
  },
  {
   "cell_type": "code",
   "execution_count": 14,
   "metadata": {
    "ExecuteTime": {
     "end_time": "2019-11-27T02:18:56.894323Z",
     "start_time": "2019-11-27T02:18:56.851641Z"
    }
   },
   "outputs": [
    {
     "data": {
      "text/plain": [
       "1.0    0.502125\n",
       "0.0    0.497875\n",
       "Name: label, dtype: float64"
      ]
     },
     "execution_count": 14,
     "metadata": {},
     "output_type": "execute_result"
    }
   ],
   "source": [
    "y_train.value_counts(normalize=True)"
   ]
  },
  {
   "cell_type": "code",
   "execution_count": 15,
   "metadata": {
    "ExecuteTime": {
     "end_time": "2019-11-27T02:18:58.811540Z",
     "start_time": "2019-11-27T02:18:58.799299Z"
    }
   },
   "outputs": [
    {
     "data": {
      "text/plain": [
       "1.0    0.502825\n",
       "0.0    0.497175\n",
       "Name: label, dtype: float64"
      ]
     },
     "execution_count": 15,
     "metadata": {},
     "output_type": "execute_result"
    }
   ],
   "source": [
    "y_test.value_counts(normalize=True)"
   ]
  },
  {
   "cell_type": "markdown",
   "metadata": {},
   "source": [
    "### Collecting model results"
   ]
  },
  {
   "cell_type": "code",
   "execution_count": 16,
   "metadata": {},
   "outputs": [],
   "source": [
    "model_score = {}"
   ]
  },
  {
   "cell_type": "markdown",
   "metadata": {},
   "source": [
    "## Naive Bayes Classifier using NLTK library"
   ]
  },
  {
   "cell_type": "markdown",
   "metadata": {},
   "source": [
    "### Restructuring dataset for this specific purpose"
   ]
  },
  {
   "cell_type": "code",
   "execution_count": 193,
   "metadata": {},
   "outputs": [],
   "source": [
    "#using the previously imported dataset\n",
    "train_pos = np.array(train.loc[train.label==1].tokens)\n",
    "train_neg = np.array(train.loc[train.label==0].tokens)\n",
    "test_pos = np.array(test.loc[test.label==1].tokens)\n",
    "test_neg = np.array(test.loc[test.label==0].tokens)\n",
    "\n",
    "#create featureset by using Freqency distribution\n",
    "all_words = []\n",
    "for doc in train_pos:\n",
    "    all_words += doc.split(' ')\n",
    "for doc in train_neg:\n",
    "    all_words += doc.split(' ')\n",
    "\n",
    "all_words = nltk.FreqDist(all_words)\n",
    "word_features = list(all_words.keys())\n",
    "\n",
    "def find_features(tokens):\n",
    "    features = {}\n",
    "    for w in word_features:\n",
    "        features[w] = (w in tokens)\n",
    "    return features\n",
    "\n",
    "#create train features\n",
    "documents_train = []\n",
    "for doc in train_pos:\n",
    "    documents_train.append((doc, 'pos'))\n",
    "for doc in train_neg:\n",
    "    documents_train.append((doc, 'neg'))\n",
    "train_features = [(find_features(text), category) for text, category in documents_train]\n",
    "\n",
    "#create test features\n",
    "documents_test = []\n",
    "for doc in test_pos:\n",
    "    documents_test.append((doc, 'pos'))\n",
    "for doc in test_neg:\n",
    "    documents_test.append((doc, 'neg'))\n",
    "test_features = [(find_features(text), category) for text, category in documents_test]"
   ]
  },
  {
   "cell_type": "markdown",
   "metadata": {},
   "source": [
    "### Model fitting"
   ]
  },
  {
   "cell_type": "code",
   "execution_count": 194,
   "metadata": {},
   "outputs": [
    {
     "name": "stdout",
     "output_type": "stream",
     "text": [
      "Train accuracy score: 0.911\n",
      "Test accuracy score: 0.579\n"
     ]
    }
   ],
   "source": [
    "nb_clf = nltk.NaiveBayesClassifier.train(train_features)\n",
    "\n",
    "nb_train = nltk.classify.accuracy(nb_clf, train_features)\n",
    "nb_test = nltk.classify.accuracy(nb_clf, test_features)\n",
    "\n",
    "#collecting results\n",
    "model_score['Naive Bayes from NLTK'] = {'train': nb_train, 'test': nb_test}\n",
    "\n",
    "#printing out the result\n",
    "print(f'Train accuracy score: {nb_train:.3f}')\n",
    "print(f'Test accuracy score: {nb_test:.3f}')"
   ]
  },
  {
   "cell_type": "code",
   "execution_count": null,
   "metadata": {},
   "outputs": [],
   "source": [
    "#save the fitted model\n",
    "with open('nb_model.sav', 'wb') as file:\n",
    "    pickle.dump(nb_clf, file)"
   ]
  },
  {
   "cell_type": "code",
   "execution_count": null,
   "metadata": {},
   "outputs": [],
   "source": [
    "# load the model from disk\n",
    "nb_model = pickle.load(open('nb_model.sav', 'rb'))"
   ]
  },
  {
   "cell_type": "code",
   "execution_count": 441,
   "metadata": {},
   "outputs": [
    {
     "name": "stdout",
     "output_type": "stream",
     "text": [
      "Most Informative Features\n",
      "             acquisition = True              neg : pos    =      6.4 : 1.0\n",
      "                    prep = True              pos : neg    =      6.3 : 1.0\n",
      "                    tack = True              pos : neg    =      5.6 : 1.0\n",
      "                  weight = True              pos : neg    =      5.6 : 1.0\n",
      "                 prepare = True              pos : neg    =      5.6 : 1.0\n",
      "                   doubt = True              neg : pos    =      5.0 : 1.0\n",
      "                  supply = True              pos : neg    =      5.0 : 1.0\n",
      "                    soon = True              pos : neg    =      4.6 : 1.0\n",
      "                 closely = True              neg : pos    =      4.4 : 1.0\n",
      "                    flat = True              neg : pos    =      4.4 : 1.0\n"
     ]
    }
   ],
   "source": [
    "# most important features and their likelyhood \n",
    "nb_clf.show_most_informative_features(10)"
   ]
  },
  {
   "cell_type": "markdown",
   "metadata": {},
   "source": [
    "## Logistic Regression "
   ]
  },
  {
   "cell_type": "code",
   "execution_count": 198,
   "metadata": {},
   "outputs": [
    {
     "name": "stdout",
     "output_type": "stream",
     "text": [
      "Fitting 5 folds for each of 1 candidates, totalling 5 fits\n"
     ]
    },
    {
     "name": "stderr",
     "output_type": "stream",
     "text": [
      "[Parallel(n_jobs=-1)]: Using backend LokyBackend with 2 concurrent workers.\n"
     ]
    },
    {
     "name": "stdout",
     "output_type": "stream",
     "text": [
      "Best parameters: {'C': 10, 'penalty': 'l1', 'solver': 'liblinear'}\n",
      "Train accuracy score: 0.996\n",
      "Test accuracy score:  0.568\n"
     ]
    },
    {
     "name": "stderr",
     "output_type": "stream",
     "text": [
      "[Parallel(n_jobs=-1)]: Done   5 out of   5 | elapsed:    6.1s remaining:    0.0s\n",
      "[Parallel(n_jobs=-1)]: Done   5 out of   5 | elapsed:    6.1s finished\n"
     ]
    }
   ],
   "source": [
    "from sklearn.linear_model import LogisticRegression\n",
    "\n",
    "# gridsearch original parameters:\n",
    "params = [{'C': np.logspace(-2, 4, 7),\n",
    "           'penalty': ['l1', 'l2'],\n",
    "           'solver': ['lbfgs']\n",
    "          }]\n",
    "\n",
    "# gridsearch best parameters:\n",
    "params = [{'C': [10], 'penalty': ['l1'], 'solver': ['liblinear'] }]\n",
    "\n",
    "logreg_grid = GridSearchCV(estimator=LogisticRegression(random_state=111),\n",
    "                           param_grid=params,\n",
    "                           scoring='accuracy',\n",
    "                           refit='accuracy',\n",
    "                           return_train_score = True,\n",
    "                           cv=5, verbose=2, n_jobs=-1)\n",
    "\n",
    "#fit the model\n",
    "logreg_grid.fit(train_data_features, y_train)\n",
    "\n",
    "#accuracy scores\n",
    "logreg_train = logreg_grid.best_estimator_.score(train_data_features, y_train)\n",
    "logreg_test = logreg_grid.best_estimator_.score(test_data_features, y_test)\n",
    "\n",
    "#collecting\n",
    "model_score['Logistic regression'] = {'train': logreg_train, 'test': logreg_test}\n",
    "\n",
    "#printing out the result\n",
    "print(f'Best parameters: {logreg_grid.best_params_}')\n",
    "print(f'Train accuracy score: {logreg_train:.3f}')\n",
    "print(f'Test accuracy score:  {logreg_test:.3f}')"
   ]
  },
  {
   "cell_type": "code",
   "execution_count": 139,
   "metadata": {},
   "outputs": [],
   "source": [
    "# pd.DataFrame(logreg_grid.best_estimator_.coef_[0], index=vocab_tfidf).sort_values(by=0)"
   ]
  },
  {
   "cell_type": "code",
   "execution_count": 204,
   "metadata": {},
   "outputs": [],
   "source": [
    "#save the fitted model\n",
    "with open('logreg_model.sav', 'wb') as file:\n",
    "    pickle.dump(logreg_grid.best_estimator_, file)"
   ]
  },
  {
   "cell_type": "code",
   "execution_count": null,
   "metadata": {},
   "outputs": [],
   "source": [
    "# load the model from disk\n",
    "logreg_model = pickle.load(open('logreg_model.sav', 'rb'))"
   ]
  },
  {
   "cell_type": "markdown",
   "metadata": {},
   "source": [
    "## Random Forest\n",
    "Tree based ensemble method. The base idea of the method is the 'bagging', which is short for the bootstrap aggregating. Bootstrap resampling means here, that a subset (sample with replacement) is used for train each tree. The remaining data (Out of bag sample) is used to calculate the out of bag error. This method also uses the 'subspace sampling method', which randomly selects a subset of the features. Each decision tree prediction is aggregated into one estimate."
   ]
  },
  {
   "cell_type": "markdown",
   "metadata": {},
   "source": [
    "## K Nearest Neighbors"
   ]
  },
  {
   "cell_type": "code",
   "execution_count": 27,
   "metadata": {},
   "outputs": [
    {
     "name": "stdout",
     "output_type": "stream",
     "text": [
      "Fitting 5 folds for each of 1 candidates, totalling 5 fits\n"
     ]
    },
    {
     "name": "stderr",
     "output_type": "stream",
     "text": [
      "[Parallel(n_jobs=-1)]: Using backend LokyBackend with 2 concurrent workers.\n",
      "[Parallel(n_jobs=-1)]: Done   5 out of   5 | elapsed:   47.8s remaining:    0.0s\n",
      "[Parallel(n_jobs=-1)]: Done   5 out of   5 | elapsed:   47.8s finished\n"
     ]
    },
    {
     "name": "stdout",
     "output_type": "stream",
     "text": [
      "Best parameters: {'n_neighbors': 15}\n",
      "Train accuracy score: 0.633\n",
      "Test accuracy score:  0.573\n"
     ]
    }
   ],
   "source": [
    "from sklearn.neighbors import KNeighborsClassifier\n",
    "\n",
    "params = {'n_neighbors': range(1, 30, 2)}\n",
    "params = {'n_neighbors': [15]}\n",
    "\n",
    "knn_grid = GridSearchCV(estimator=KNeighborsClassifier(),\n",
    "                        param_grid=params,\n",
    "                        scoring='accuracy',\n",
    "                        refit='accuracy',\n",
    "                        return_train_score=True,\n",
    "                        cv=5, verbose=2, n_jobs=-1)\n",
    "\n",
    "#fit the model\n",
    "knn_grid.fit(train_data_features, y_train)\n",
    "\n",
    "#accuracy scores\n",
    "knn_train = knn_grid.best_estimator_.score(train_data_features, y_train)\n",
    "knn_test = knn_grid.best_estimator_.score(test_data_features, y_test)\n",
    "\n",
    "#collecting results\n",
    "model_score['KNN'] = {'train': knn_train, 'test': knn_test}\n",
    "\n",
    "print(f'Best parameters: {knn_grid.best_params_}')\n",
    "print(f'Train accuracy score: {knn_train:.3f}')\n",
    "print(f'Test accuracy score:  {knn_test:.3f}')"
   ]
  },
  {
   "cell_type": "code",
   "execution_count": 206,
   "metadata": {},
   "outputs": [],
   "source": [
    "#save the fitted model\n",
    "with open('knn_model.sav', 'wb') as file:\n",
    "    pickle.dump(knn_grid.best_estimator_, file)"
   ]
  },
  {
   "cell_type": "code",
   "execution_count": null,
   "metadata": {},
   "outputs": [],
   "source": [
    "# load the model from disk\n",
    "knn_model = pickle.load(open('knn_model.sav', 'rb'))"
   ]
  },
  {
   "cell_type": "markdown",
   "metadata": {},
   "source": [
    "## XG Boosting"
   ]
  },
  {
   "cell_type": "code",
   "execution_count": 34,
   "metadata": {},
   "outputs": [
    {
     "name": "stdout",
     "output_type": "stream",
     "text": [
      "Fitting 5 folds for each of 1 candidates, totalling 5 fits\n"
     ]
    },
    {
     "name": "stderr",
     "output_type": "stream",
     "text": [
      "[Parallel(n_jobs=-1)]: Using backend LokyBackend with 2 concurrent workers.\n",
      "[Parallel(n_jobs=-1)]: Done   5 out of   5 | elapsed:   39.6s remaining:    0.0s\n",
      "[Parallel(n_jobs=-1)]: Done   5 out of   5 | elapsed:   39.6s finished\n"
     ]
    },
    {
     "name": "stdout",
     "output_type": "stream",
     "text": [
      "Best parameters: {'learning_rate': 0.15, 'max_depth': 3, 'n_estimators': 150, 'reg_alpha': 0.5, 'subsample': 0.25}\n",
      "Train accuracy score: 0.739\n",
      "Test accuracy score: 0.573\n"
     ]
    }
   ],
   "source": [
    "import xgboost as xgb\n",
    "\n",
    "params = {'learning_rate': [0.1, 0.15],\n",
    "          'max_depth': [2, 3, 4, 5, 8],\n",
    "          'min_child_weight': [0.1, 0.2, 0.3],\n",
    "          'subsample': [0.2, 0.3, 0.5],\n",
    "          'n_estimators': [10, 50, 100, 150],\n",
    "          }\n",
    "\n",
    "params = {'learning_rate': [0.15],\n",
    "          'max_depth': [3],\n",
    "          'reg_alpha': [0.5],\n",
    "          'subsample': [0.25],\n",
    "          'n_estimators': [150],\n",
    "          }\n",
    "\n",
    "xgboost_grid = GridSearchCV(estimator=xgb.XGBClassifier(random_state=111),\n",
    "                            param_grid=params,\n",
    "                            scoring='accuracy',\n",
    "                            refit='accuracy',\n",
    "                            return_train_score=True,\n",
    "                            cv=5, verbose=2, n_jobs=-1)\n",
    "\n",
    "#fit the model\n",
    "xgboost_grid.fit(train_data_features, y_train)\n",
    "\n",
    "#accuracy scores\n",
    "xgboost_train = xgboost_grid.best_estimator_.score(train_data_features, y_train)\n",
    "xgboost_test = xgboost_grid.best_estimator_.score(test_data_features, y_test)\n",
    "\n",
    "#collecting results\n",
    "model_score['Extreme Gradient Boosting'] = {'train': xgboost_train, 'test': xgboost_test}\n",
    "\n",
    "#printing out the result\n",
    "print(f'Best parameters: {xgboost_grid.best_params_}')\n",
    "print(f'Train accuracy score: {xgboost_train:.3f}')\n",
    "print(f'Test accuracy score: {xgboost_test:.3f}')"
   ]
  },
  {
   "cell_type": "code",
   "execution_count": 207,
   "metadata": {},
   "outputs": [],
   "source": [
    "#save the fitted model\n",
    "with open('xgboost_model.sav', 'wb') as file:\n",
    "    pickle.dump(xgboost_grid.best_estimator_, file)"
   ]
  },
  {
   "cell_type": "code",
   "execution_count": null,
   "metadata": {},
   "outputs": [],
   "source": [
    "#upload the estimator for further use\n",
    "with open('xgboost_model.sav', 'rb') as file:\n",
    "    xgboost_model = pickle.load(file)"
   ]
  },
  {
   "cell_type": "markdown",
   "metadata": {},
   "source": [
    "## Support Vector Machine"
   ]
  },
  {
   "cell_type": "code",
   "execution_count": 52,
   "metadata": {},
   "outputs": [
    {
     "name": "stdout",
     "output_type": "stream",
     "text": [
      "Fitting 5 folds for each of 1 candidates, totalling 5 fits\n"
     ]
    },
    {
     "name": "stderr",
     "output_type": "stream",
     "text": [
      "[Parallel(n_jobs=-1)]: Using backend LokyBackend with 2 concurrent workers.\n",
      "[Parallel(n_jobs=-1)]: Done   5 out of   5 | elapsed:  2.4min remaining:    0.0s\n",
      "[Parallel(n_jobs=-1)]: Done   5 out of   5 | elapsed:  2.4min finished\n"
     ]
    },
    {
     "name": "stdout",
     "output_type": "stream",
     "text": [
      "Best parameters: {'C': 10, 'kernel': 'linear'}\n",
      "Train accuracy score: 0.999\n",
      "Test accuracy score: 0.590\n"
     ]
    }
   ],
   "source": [
    "from sklearn import svm\n",
    "\n",
    "params = {'kernel': ['linear', 'poly', 'rbf'],\n",
    "          'C': [0.1, 1, 10, 1000], #high C allows narrow mistakes\n",
    "          'degree': [2, 3]}\n",
    "\n",
    "params = {'kernel': ['linear'], 'C': [10]}\n",
    "\n",
    "svm_grid = GridSearchCV(estimator=svm.SVC(random_state=111, probability=True),\n",
    "                        param_grid=params,\n",
    "                        scoring='accuracy',\n",
    "                        return_train_score=True,\n",
    "                        cv=5, verbose=2, n_jobs=-1)\n",
    "\n",
    "#fit the model\n",
    "svm_grid.fit(train_data_features, y_train)\n",
    "\n",
    "#accuracy scores\n",
    "svm_train = svm_grid.best_estimator_.score(train_data_features, y_train)\n",
    "svm_test = svm_grid.best_estimator_.score(test_data_features, y_test)\n",
    "\n",
    "#collecting results\n",
    "model_score['Support Vector Machine'] = {'train': svm_train, 'test': svm_test}\n",
    "\n",
    "#printing out the result\n",
    "print(f'Best parameters: {svm_grid.best_params_}')\n",
    "print(f'Train accuracy score: {svm_train:.3f}')\n",
    "print(f'Test accuracy score: {svm_test:.3f}')"
   ]
  },
  {
   "cell_type": "code",
   "execution_count": 371,
   "metadata": {},
   "outputs": [],
   "source": [
    "#save the fitted model\n",
    "with open('svm_model.sav', 'wb') as file:\n",
    "    pickle.dump(svm_grid.best_estimator_, file)"
   ]
  },
  {
   "cell_type": "code",
   "execution_count": null,
   "metadata": {},
   "outputs": [],
   "source": [
    "with open('svm_model.sav', 'rb') as file:\n",
    "    svm_model = pickle.load(file)"
   ]
  },
  {
   "cell_type": "code",
   "execution_count": 487,
   "metadata": {},
   "outputs": [
    {
     "data": {
      "text/html": [
       "<div>\n",
       "<style scoped>\n",
       "    .dataframe tbody tr th:only-of-type {\n",
       "        vertical-align: middle;\n",
       "    }\n",
       "\n",
       "    .dataframe tbody tr th {\n",
       "        vertical-align: top;\n",
       "    }\n",
       "\n",
       "    .dataframe thead th {\n",
       "        text-align: right;\n",
       "    }\n",
       "</style>\n",
       "<table border=\"1\" class=\"dataframe\">\n",
       "  <thead>\n",
       "    <tr style=\"text-align: right;\">\n",
       "      <th></th>\n",
       "      <th>Coefficient</th>\n",
       "      <th>Absolute Coefficient</th>\n",
       "    </tr>\n",
       "  </thead>\n",
       "  <tbody>\n",
       "    <tr>\n",
       "      <th>communication</th>\n",
       "      <td>3.655428</td>\n",
       "      <td>3.655428</td>\n",
       "    </tr>\n",
       "    <tr>\n",
       "      <th>live</th>\n",
       "      <td>3.171749</td>\n",
       "      <td>3.171749</td>\n",
       "    </tr>\n",
       "    <tr>\n",
       "      <th>bj</th>\n",
       "      <td>2.855259</td>\n",
       "      <td>2.855259</td>\n",
       "    </tr>\n",
       "    <tr>\n",
       "      <th>sell volvo</th>\n",
       "      <td>2.810466</td>\n",
       "      <td>2.810466</td>\n",
       "    </tr>\n",
       "    <tr>\n",
       "      <th>measure</th>\n",
       "      <td>-2.644216</td>\n",
       "      <td>2.644216</td>\n",
       "    </tr>\n",
       "    <tr>\n",
       "      <th>partnership</th>\n",
       "      <td>2.460696</td>\n",
       "      <td>2.460696</td>\n",
       "    </tr>\n",
       "    <tr>\n",
       "      <th>industrial business</th>\n",
       "      <td>-2.414116</td>\n",
       "      <td>2.414116</td>\n",
       "    </tr>\n",
       "    <tr>\n",
       "      <th>focus</th>\n",
       "      <td>2.401245</td>\n",
       "      <td>2.401245</td>\n",
       "    </tr>\n",
       "    <tr>\n",
       "      <th>engineering</th>\n",
       "      <td>-2.394605</td>\n",
       "      <td>2.394605</td>\n",
       "    </tr>\n",
       "    <tr>\n",
       "      <th>leader ge</th>\n",
       "      <td>2.375763</td>\n",
       "      <td>2.375763</td>\n",
       "    </tr>\n",
       "  </tbody>\n",
       "</table>\n",
       "</div>"
      ],
      "text/plain": [
       "                     Coefficient  Absolute Coefficient\n",
       "communication           3.655428              3.655428\n",
       "live                    3.171749              3.171749\n",
       "bj                      2.855259              2.855259\n",
       "sell volvo              2.810466              2.810466\n",
       "measure                -2.644216              2.644216\n",
       "partnership             2.460696              2.460696\n",
       "industrial business    -2.414116              2.414116\n",
       "focus                   2.401245              2.401245\n",
       "engineering            -2.394605              2.394605\n",
       "leader ge               2.375763              2.375763"
      ]
     },
     "execution_count": 487,
     "metadata": {},
     "output_type": "execute_result"
    }
   ],
   "source": [
    "feat_imp_svm = pd.DataFrame(svm_grid.best_estimator_.coef_[0], index=vocab_tfidf, \n",
    "                            columns=['Coefficient'])\n",
    "feat_imp_svm['Absolute Coefficient'] = feat_imp_svm.Coefficient.apply(lambda x: abs(x))\n",
    "feat_imp_svm = feat_imp_svm.sort_values(by='Absolute Coefficient', ascending=False)\n",
    "feat_imp_svm[:10]"
   ]
  },
  {
   "cell_type": "code",
   "execution_count": 69,
   "metadata": {},
   "outputs": [],
   "source": [
    "svm_proba_train = svm_grid.best_estimator_.predict_proba(train_data_features)\n",
    "svm_proba_test = svm_grid.best_estimator_.predict_proba(test_data_features)"
   ]
  },
  {
   "cell_type": "markdown",
   "metadata": {},
   "source": [
    "## Multinomial Naive Bayes\n",
    "\n",
    "posterior = prior * likelyhood / evidence\n",
    "\n",
    "**posterior:** the probablity that the document is classified as positive (negative), given it contains a word\n",
    "\n",
    "**prior**: the probability that the document is classified as positive (negative)\n",
    "\n",
    "**likelyhood:**  probability of the word given the document is classified positive (negative)\n",
    " \n",
    "**evidence:** probability of occurance of the word"
   ]
  },
  {
   "cell_type": "code",
   "execution_count": 20,
   "metadata": {},
   "outputs": [
    {
     "name": "stdout",
     "output_type": "stream",
     "text": [
      "Fitting 5 folds for each of 1 candidates, totalling 5 fits\n"
     ]
    },
    {
     "name": "stderr",
     "output_type": "stream",
     "text": [
      "[Parallel(n_jobs=-1)]: Using backend LokyBackend with 2 concurrent workers.\n"
     ]
    },
    {
     "name": "stdout",
     "output_type": "stream",
     "text": [
      "Best parameters: {'alpha': 1}\n",
      "Train accuracy score: 0.928\n",
      "Test accuracy score: 0.596\n"
     ]
    },
    {
     "name": "stderr",
     "output_type": "stream",
     "text": [
      "[Parallel(n_jobs=-1)]: Done   5 out of   5 | elapsed:    1.4s remaining:    0.0s\n",
      "[Parallel(n_jobs=-1)]: Done   5 out of   5 | elapsed:    1.4s finished\n"
     ]
    }
   ],
   "source": [
    "from sklearn.naive_bayes import MultinomialNB\n",
    "\n",
    "params = {'alpha': [1]}\n",
    "\n",
    "mnb_grid = GridSearchCV(estimator=MultinomialNB(),\n",
    "                        param_grid=params,\n",
    "                        scoring='accuracy',\n",
    "                        return_train_score=True,\n",
    "                        cv=5, verbose=2, n_jobs=-1)\n",
    "\n",
    "#fit the model\n",
    "mnb_grid.fit(train_data_features, y_train)\n",
    "\n",
    "#accuracy scores\n",
    "mnb_train = mnb_grid.best_estimator_.score(train_data_features, y_train)\n",
    "mnb_test = mnb_grid.best_estimator_.score(test_data_features, y_test)\n",
    "\n",
    "#collecting results\n",
    "model_score['Naive Bayes'] = {'train': mnb_train, 'test': mnb_test}\n",
    "\n",
    "#printing out the result\n",
    "print(f'Best parameters: {mnb_grid.best_params_}')\n",
    "print(f'Train accuracy score: {mnb_train:.3f}')\n",
    "print(f'Test accuracy score: {mnb_test:.3f}')"
   ]
  },
  {
   "cell_type": "code",
   "execution_count": 24,
   "metadata": {},
   "outputs": [],
   "source": [
    "#save the fitted model\n",
    "with open('mnb_model.sav', 'wb') as file:\n",
    "    pickle.dump(mnb_grid.best_estimator_, file)"
   ]
  },
  {
   "cell_type": "code",
   "execution_count": 25,
   "metadata": {},
   "outputs": [],
   "source": [
    "#import the fitted model\n",
    "with open('mnb_model.sav', 'rb') as file:\n",
    "    mnb_model = pickle.load(file)"
   ]
  },
  {
   "cell_type": "markdown",
   "metadata": {},
   "source": [
    "#### feature importance - playground"
   ]
  },
  {
   "cell_type": "code",
   "execution_count": 387,
   "metadata": {},
   "outputs": [
    {
     "data": {
      "text/plain": [
       "array([-8.51756009, -8.5886076 , -9.01242583, -9.01242583, -8.74501269,\n",
       "       -6.56833664, -8.17972334, -8.63959061, -8.46727432, -8.82487598,\n",
       "       -8.67785154, -8.25730963, -8.85446803, -8.81704814, -8.69790613,\n",
       "       -9.01242583, -8.79365571, -8.39823227, -7.92322152, -9.01242583])"
      ]
     },
     "execution_count": 387,
     "metadata": {},
     "output_type": "execute_result"
    }
   ],
   "source": [
    "mnb_grid.best_estimator_.feature_log_prob_[0]"
   ]
  },
  {
   "cell_type": "code",
   "execution_count": 486,
   "metadata": {},
   "outputs": [],
   "source": [
    "feat_imp_mnb = pd.DataFrame(mnb_grid.best_estimator_.feature_log_prob_[0], index=vocab_tfidf, \n",
    "                            columns=['Log_prob'])\n",
    "# feat_imp_mnb['Absolute_log_prob'] = feat_imp_mnb.Coefficient.apply(lambda x: abs(x))\n",
    "feat_imp_mnb = feat_imp_mnb.sort_values(by='Log_prob', ascending=False)\n",
    "# feat_imp_mnb.tail(100)"
   ]
  },
  {
   "cell_type": "code",
   "execution_count": 485,
   "metadata": {},
   "outputs": [],
   "source": [
    "feat_imp_mnb = pd.DataFrame(mnb_grid.best_estimator_.feature_log_prob_[1], index=vocab_tfidf, \n",
    "                            columns=['Log_prob'])\n",
    "# feat_imp_mnb['Absolute_log_prob'] = feat_imp_mnb.Coefficient.apply(lambda x: abs(x))\n",
    "feat_imp_mnb = feat_imp_mnb.sort_values(by='Log_prob', ascending=False)\n",
    "# feat_imp_mnb.tail(100)"
   ]
  },
  {
   "cell_type": "code",
   "execution_count": 483,
   "metadata": {},
   "outputs": [],
   "source": [
    "neg_class_prob_sorted = mnb_grid.best_estimator_.feature_log_prob_[0, :].argsort()\n",
    "pos_class_prob_sorted = mnb_grid.best_estimator_.feature_log_prob_[1, :].argsort()\n",
    "\n",
    "# print(np.take(vocab_tfidf, neg_class_prob_sorted[:50]))\n",
    "# print(np.take(vocab_tfidf, pos_class_prob_sorted[:50]))"
   ]
  },
  {
   "cell_type": "code",
   "execution_count": 399,
   "metadata": {},
   "outputs": [],
   "source": [
    "important_features= pd.DataFrame(data=np.transpose(mnb_grid.best_estimator_.feature_log_prob_).astype(\"float32\"),\n",
    "                                 index=vocab_tfidf)"
   ]
  },
  {
   "cell_type": "code",
   "execution_count": 484,
   "metadata": {},
   "outputs": [],
   "source": [
    "# important_features.sort_values(1).head(50)"
   ]
  },
  {
   "cell_type": "markdown",
   "metadata": {},
   "source": [
    "## Bernoulli Naive Bayes Classifier"
   ]
  },
  {
   "cell_type": "code",
   "execution_count": 350,
   "metadata": {},
   "outputs": [
    {
     "name": "stdout",
     "output_type": "stream",
     "text": [
      "Fitting 5 folds for each of 1 candidates, totalling 5 fits\n"
     ]
    },
    {
     "name": "stderr",
     "output_type": "stream",
     "text": [
      "[Parallel(n_jobs=-1)]: Using backend LokyBackend with 2 concurrent workers.\n"
     ]
    },
    {
     "name": "stdout",
     "output_type": "stream",
     "text": [
      "Best parameters: {'alpha': 0.9}\n",
      "Train accuracy score: 0.933\n",
      "Test accuracy score: 0.588\n"
     ]
    },
    {
     "name": "stderr",
     "output_type": "stream",
     "text": [
      "[Parallel(n_jobs=-1)]: Done   5 out of   5 | elapsed:    0.9s remaining:    0.0s\n",
      "[Parallel(n_jobs=-1)]: Done   5 out of   5 | elapsed:    0.9s finished\n"
     ]
    }
   ],
   "source": [
    "from sklearn.naive_bayes import BernoulliNB\n",
    "\n",
    "params = {'alpha': [0.9]}\n",
    "\n",
    "bnb_grid = GridSearchCV(estimator=BernoulliNB(),\n",
    "                        param_grid=params,\n",
    "                        scoring='accuracy',\n",
    "                        return_train_score=True,\n",
    "                        cv=5, verbose=2, n_jobs=-1)\n",
    "\n",
    "#fit the model\n",
    "bnb_grid.fit(train_data_features, y_train)\n",
    "\n",
    "#accuracy scores\n",
    "bnb_train = bnb_grid.best_estimator_.score(train_data_features, y_train)\n",
    "bnb_test = bnb_grid.best_estimator_.score(test_data_features, y_test)\n",
    "\n",
    "#collecting results\n",
    "model_score['Bernoulli Naive Bayes'] = {'train': bnb_train, 'test': bnb_test}\n",
    "\n",
    "#printing out the result\n",
    "print(f'Best parameters: {bnb_grid.best_params_}')\n",
    "print(f'Train accuracy score: {bnb_train:.3f}')\n",
    "print(f'Test accuracy score: {bnb_test:.3f}')"
   ]
  },
  {
   "cell_type": "code",
   "execution_count": 351,
   "metadata": {},
   "outputs": [],
   "source": [
    "#save the fitted model\n",
    "with open('bnb_model.sav', 'wb') as file:\n",
    "    pickle.dump(bnb_grid.best_estimator_, file)"
   ]
  },
  {
   "cell_type": "code",
   "execution_count": null,
   "metadata": {},
   "outputs": [],
   "source": [
    "with open('bnb_model.sav', 'rb') as file:\n",
    "    bnb_model = pickle.load(file)"
   ]
  },
  {
   "cell_type": "markdown",
   "metadata": {},
   "source": [
    "## Gaussian Naive Bayes"
   ]
  },
  {
   "cell_type": "code",
   "execution_count": 352,
   "metadata": {},
   "outputs": [
    {
     "name": "stdout",
     "output_type": "stream",
     "text": [
      "Fitting 5 folds for each of 1 candidates, totalling 5 fits\n"
     ]
    },
    {
     "name": "stderr",
     "output_type": "stream",
     "text": [
      "[Parallel(n_jobs=-1)]: Using backend LokyBackend with 2 concurrent workers.\n"
     ]
    },
    {
     "name": "stdout",
     "output_type": "stream",
     "text": [
      "Best parameters: {'alpha': 0.9}\n",
      "Train accuracy score: 0.933\n",
      "Test accuracy score: 0.588\n"
     ]
    },
    {
     "name": "stderr",
     "output_type": "stream",
     "text": [
      "[Parallel(n_jobs=-1)]: Done   5 out of   5 | elapsed:    0.9s remaining:    0.0s\n",
      "[Parallel(n_jobs=-1)]: Done   5 out of   5 | elapsed:    0.9s finished\n"
     ]
    }
   ],
   "source": [
    "from sklearn.naive_bayes import GaussianNB\n",
    "\n",
    "params = [{'alpha':[0.9]}]\n",
    "\n",
    "gnb_grid = GridSearchCV(estimator=BernoulliNB(),\n",
    "                        param_grid=params,\n",
    "                        scoring='accuracy',\n",
    "                        return_train_score=True,\n",
    "                        cv=5, verbose=2, n_jobs=-1)\n",
    "\n",
    "#fit the model\n",
    "gnb_grid.fit(train_data_features, y_train)\n",
    "\n",
    "#accuracy scores\n",
    "gnb_train = gnb_grid.best_estimator_.score(train_data_features, y_train)\n",
    "gnb_test = gnb_grid.best_estimator_.score(test_data_features, y_test)\n",
    "\n",
    "#collecting results\n",
    "model_score['Gaussian Naive Bayes'] = {'train': gnb_train, 'test': gnb_test}\n",
    "\n",
    "#printing out the result\n",
    "print(f'Best parameters: {gnb_grid.best_params_}')\n",
    "print(f'Train accuracy score: {gnb_train:.3f}')\n",
    "print(f'Test accuracy score: {gnb_test:.3f}')"
   ]
  },
  {
   "cell_type": "code",
   "execution_count": 353,
   "metadata": {},
   "outputs": [],
   "source": [
    "#save the fitted model\n",
    "with open('gnb_model.sav', 'wb') as file:\n",
    "    pickle.dump(gnb_grid.best_estimator_, file)"
   ]
  },
  {
   "cell_type": "code",
   "execution_count": null,
   "metadata": {},
   "outputs": [],
   "source": [
    "with open('gnb_model.sav', 'rb') as file:\n",
    "    gnb_model = pickle.load(file)"
   ]
  },
  {
   "cell_type": "markdown",
   "metadata": {},
   "source": [
    "## Model selection"
   ]
  },
  {
   "cell_type": "code",
   "execution_count": 354,
   "metadata": {},
   "outputs": [
    {
     "data": {
      "text/html": [
       "<div>\n",
       "<style scoped>\n",
       "    .dataframe tbody tr th:only-of-type {\n",
       "        vertical-align: middle;\n",
       "    }\n",
       "\n",
       "    .dataframe tbody tr th {\n",
       "        vertical-align: top;\n",
       "    }\n",
       "\n",
       "    .dataframe thead th {\n",
       "        text-align: right;\n",
       "    }\n",
       "</style>\n",
       "<table border=\"1\" class=\"dataframe\">\n",
       "  <thead>\n",
       "    <tr style=\"text-align: right;\">\n",
       "      <th></th>\n",
       "      <th>train</th>\n",
       "      <th>test</th>\n",
       "    </tr>\n",
       "  </thead>\n",
       "  <tbody>\n",
       "    <tr>\n",
       "      <th>Logistic regression</th>\n",
       "      <td>0.996</td>\n",
       "      <td>0.568</td>\n",
       "    </tr>\n",
       "    <tr>\n",
       "      <th>Random forest</th>\n",
       "      <td>0.839</td>\n",
       "      <td>0.559</td>\n",
       "    </tr>\n",
       "    <tr>\n",
       "      <th>KNN</th>\n",
       "      <td>0.633</td>\n",
       "      <td>0.573</td>\n",
       "    </tr>\n",
       "    <tr>\n",
       "      <th>Support Vector Machine</th>\n",
       "      <td>0.999</td>\n",
       "      <td>0.590</td>\n",
       "    </tr>\n",
       "    <tr>\n",
       "      <th>Extreme Gradient Boosting</th>\n",
       "      <td>0.739</td>\n",
       "      <td>0.573</td>\n",
       "    </tr>\n",
       "    <tr>\n",
       "      <th>Naive Bayes</th>\n",
       "      <td>0.928</td>\n",
       "      <td>0.596</td>\n",
       "    </tr>\n",
       "    <tr>\n",
       "      <th>Naive Bayes from NLTK</th>\n",
       "      <td>0.911</td>\n",
       "      <td>0.579</td>\n",
       "    </tr>\n",
       "    <tr>\n",
       "      <th>Bernoulli Naive Bayes</th>\n",
       "      <td>0.933</td>\n",
       "      <td>0.588</td>\n",
       "    </tr>\n",
       "    <tr>\n",
       "      <th>Gaussian Naive Bayes</th>\n",
       "      <td>0.933</td>\n",
       "      <td>0.588</td>\n",
       "    </tr>\n",
       "  </tbody>\n",
       "</table>\n",
       "</div>"
      ],
      "text/plain": [
       "                           train   test\n",
       "Logistic regression        0.996  0.568\n",
       "Random forest              0.839  0.559\n",
       "KNN                        0.633  0.573\n",
       "Support Vector Machine     0.999  0.590\n",
       "Extreme Gradient Boosting  0.739  0.573\n",
       "Naive Bayes                0.928  0.596\n",
       "Naive Bayes from NLTK      0.911  0.579\n",
       "Bernoulli Naive Bayes      0.933  0.588\n",
       "Gaussian Naive Bayes       0.933  0.588"
      ]
     },
     "execution_count": 354,
     "metadata": {},
     "output_type": "execute_result"
    }
   ],
   "source": [
    "results = pd.DataFrame(model_score).T.applymap(lambda x: round(x,3))\n",
    "results[['train', 'test']]"
   ]
  },
  {
   "cell_type": "markdown",
   "metadata": {},
   "source": [
    "## Confusion matrix"
   ]
  },
  {
   "cell_type": "code",
   "execution_count": 99,
   "metadata": {},
   "outputs": [
    {
     "data": {
      "text/plain": [
       "array([[103,  73],\n",
       "       [ 72, 106]])"
      ]
     },
     "execution_count": 99,
     "metadata": {},
     "output_type": "execute_result"
    }
   ],
   "source": [
    "from sklearn.metrics import confusion_matrix\n",
    "# svm\n",
    "cnf_matrix = confusion_matrix(y_test, svm_grid.predict(test_data_features))\n",
    "cnf_matrix"
   ]
  },
  {
   "cell_type": "code",
   "execution_count": 299,
   "metadata": {},
   "outputs": [
    {
     "data": {
      "text/plain": [
       "array([[113,  63],\n",
       "       [ 83,  95]])"
      ]
     },
     "execution_count": 299,
     "metadata": {},
     "output_type": "execute_result"
    }
   ],
   "source": [
    "# naiv bayes\n",
    "cnf_matrix = confusion_matrix(y_test, nb_grid.predict(test_data_features))\n",
    "cnf_matrix"
   ]
  },
  {
   "cell_type": "code",
   "execution_count": 28,
   "metadata": {},
   "outputs": [
    {
     "data": {
      "image/png": "[encoded data removed]",
      "text/plain": [
       "<Figure size 504x360 with 1 Axes>"
      ]
     },
     "metadata": {
      "needs_background": "light"
     },
     "output_type": "display_data"
    }
   ],
   "source": [
    "from sklearn.metrics import confusion_matrix\n",
    "import seaborn as sns\n",
    "import matplotlib.pyplot as plt\n",
    "%matplotlib inline\n",
    "\n",
    "def plot_confusion_matrix(y_test, features, model, palname):\n",
    "    '''\n",
    "    This function plots a confusion matrix for the specified model and drug.\n",
    "    Parameters\n",
    "    ----------\n",
    "        y_test: DataFrame or series, test set of target values\n",
    "        features: DataFrame or series, test set of features\n",
    "        model: model (best estimator) used\n",
    "        palname: seaborn palette name\n",
    "    Returns\n",
    "    -------\n",
    "    Confusion Matrix showing the percentages for each TP, FP, TN, FN\n",
    "    '''\n",
    "#     matrix = confusion_matrix(y_test, model.best_estimator_.predict(features))\n",
    "    matrix = confusion_matrix(y_test, model.predict(features))\n",
    "    matrix = matrix / matrix.astype(np.float).sum()\n",
    "    df_matrix = pd.DataFrame(matrix,\n",
    "                             columns=['predicted\\ndecrease', 'predicted\\nincrease'],\n",
    "                             index=['actual\\ndecrease', 'actual\\nincrease'])\n",
    "    plt.figure(figsize=(7, 5))\n",
    "    col = sns.color_palette(palname, 10)\n",
    "    sns.heatmap(df_matrix, annot=True,\n",
    "                fmt='.0%', cmap=col, cbar=False,\n",
    "                annot_kws={\"size\": 30, 'weight':'bold', \n",
    "                           'fontname':'AppleGothic'})\n",
    "    plt.title(f'Model classification\\n', fontsize=30)\n",
    "    plt.yticks(rotation=0, fontsize=20)\n",
    "    plt.xticks(fontsize=20)\n",
    "    \n",
    "plot_confusion_matrix(y_test, test_data_features, mnb_model, 'PuBu')\n"
   ]
  },
  {
   "cell_type": "markdown",
   "metadata": {},
   "source": [
    "### Visualize feature importance based on Naive Bayes Classifier"
   ]
  },
  {
   "cell_type": "code",
   "execution_count": 489,
   "metadata": {},
   "outputs": [],
   "source": [
    "from io import StringIO\n",
    "import sys\n",
    "from contextlib import redirect_stdout\n",
    "\n",
    "print_features = StringIO()\n",
    "with redirect_stdout(print_features):\n",
    "    nb_clf.show_most_informative_features(200)\n"
   ]
  },
  {
   "cell_type": "code",
   "execution_count": 490,
   "metadata": {},
   "outputs": [
    {
     "data": {
      "text/html": [
       "<div>\n",
       "<style scoped>\n",
       "    .dataframe tbody tr th:only-of-type {\n",
       "        vertical-align: middle;\n",
       "    }\n",
       "\n",
       "    .dataframe tbody tr th {\n",
       "        vertical-align: top;\n",
       "    }\n",
       "\n",
       "    .dataframe thead th {\n",
       "        text-align: right;\n",
       "    }\n",
       "</style>\n",
       "<table border=\"1\" class=\"dataframe\">\n",
       "  <thead>\n",
       "    <tr style=\"text-align: right;\">\n",
       "      <th></th>\n",
       "      <th>word</th>\n",
       "      <th>cat</th>\n",
       "      <th>likelyhood</th>\n",
       "    </tr>\n",
       "  </thead>\n",
       "  <tbody>\n",
       "    <tr>\n",
       "      <th>0</th>\n",
       "      <td>acquisition</td>\n",
       "      <td>neg</td>\n",
       "      <td>6.4</td>\n",
       "    </tr>\n",
       "    <tr>\n",
       "      <th>1</th>\n",
       "      <td>prep</td>\n",
       "      <td>pos</td>\n",
       "      <td>6.3</td>\n",
       "    </tr>\n",
       "    <tr>\n",
       "      <th>2</th>\n",
       "      <td>tack</td>\n",
       "      <td>pos</td>\n",
       "      <td>5.6</td>\n",
       "    </tr>\n",
       "    <tr>\n",
       "      <th>3</th>\n",
       "      <td>weight</td>\n",
       "      <td>pos</td>\n",
       "      <td>5.6</td>\n",
       "    </tr>\n",
       "    <tr>\n",
       "      <th>4</th>\n",
       "      <td>prepare</td>\n",
       "      <td>pos</td>\n",
       "      <td>5.6</td>\n",
       "    </tr>\n",
       "  </tbody>\n",
       "</table>\n",
       "</div>"
      ],
      "text/plain": [
       "          word  cat  likelyhood\n",
       "0  acquisition  neg         6.4\n",
       "1         prep  pos         6.3\n",
       "2         tack  pos         5.6\n",
       "3       weight  pos         5.6\n",
       "4      prepare  pos         5.6"
      ]
     },
     "execution_count": 490,
     "metadata": {},
     "output_type": "execute_result"
    }
   ],
   "source": [
    "import re\n",
    "\n",
    "words = re.findall(r'([a-z]+).=', print_features.getvalue())\n",
    "cat = re.findall(r'([a-z]+).:', print_features.getvalue())\n",
    "likelyhood = re.findall(r'([0-9].[0-9]).:',print_features.getvalue())\n",
    "\n",
    "important_features = pd.DataFrame([words,cat,likelyhood]).T\n",
    "important_features.columns = ['word', 'cat', 'likelyhood']\n",
    "important_features.likelyhood = important_features.likelyhood.astype(float)\n",
    "important_features.head()"
   ]
  },
  {
   "cell_type": "code",
   "execution_count": null,
   "metadata": {},
   "outputs": [],
   "source": [
    "neg_words = {row['word']:row['likelyhood'] for i, row in \n",
    "             important_features.loc[important_features.cat=='neg'].iterrows()}\n",
    "pos_words = {row['word']:row['likelyhood'] for i, row in \n",
    "             important_features.loc[important_features.cat=='pos'].iterrows()}"
   ]
  },
  {
   "cell_type": "code",
   "execution_count": null,
   "metadata": {},
   "outputs": [],
   "source": [
    "from wordcloud import WordCloud, STOPWORDS, ImageColorGenerator\n",
    "import matplotlib.pyplot as plt\n",
    "\n",
    "stopwords = set(STOPWORDS)\n",
    "stopwords.update(['Mr.', 'Mrs.', 'Ford', 'Tesla', 'Boeing', 'Microsoft', 'Goldman', 'Sachs',\n",
    "                  'GE','General', 'Electric', 'tack', 'prep'])\n",
    "\n",
    "def plot_wordcloud(text_freq_dict):\n",
    "    '''\n",
    "    Generates wordcloud plot from text frequency distribution\n",
    "    ---------\n",
    "    Inputs:\n",
    "        text_freq_dict: dictionary of text (string) and it's frequency (float)\n",
    "    ---------\n",
    "    Output:\n",
    "        wordcloud plot, but no return value\n",
    "    '''\n",
    "    plt.figure(figsize=(8,6))\n",
    "    wordcloud = WordCloud(stopwords=stopwords, background_color=\"white\", colormap='tab10',\n",
    "                          max_words=50, width= 400, height=300)\n",
    "    wordcloud.generate_from_frequencies(text_freq_dict)\n",
    "    plt.imshow(wordcloud, interpolation='bilinear')\n",
    "    plt.axis(\"off\")\n",
    "    plt.show()\n",
    "\n",
    "#colormaps: 'tab10'"
   ]
  },
  {
   "cell_type": "code",
   "execution_count": 491,
   "metadata": {},
   "outputs": [
    {
     "data": {
      "image/png": "[encoded data removed]",
      "text/plain": [
       "<Figure size 576x432 with 1 Axes>"
      ]
     },
     "metadata": {
      "needs_background": "light"
     },
     "output_type": "display_data"
    },
    {
     "data": {
      "image/png": "[encoded data removed]",
      "text/plain": [
       "<Figure size 576x432 with 1 Axes>"
      ]
     },
     "metadata": {
      "needs_background": "light"
     },
     "output_type": "display_data"
    }
   ],
   "source": [
    "plot_wordcloud(neg_words)\n",
    "plot_wordcloud(pos_words)"
   ]
  },
  {
   "cell_type": "markdown",
   "metadata": {},
   "source": [
    "## JUST PLAYING AROUND"
   ]
  },
  {
   "cell_type": "code",
   "execution_count": 67,
   "metadata": {},
   "outputs": [],
   "source": [
    "train_mod = train\n",
    "test_mod = test"
   ]
  },
  {
   "cell_type": "code",
   "execution_count": 70,
   "metadata": {},
   "outputs": [],
   "source": [
    "train_mod['proba'] = svm_proba_train[:, 1]\n",
    "test_mod['proba'] = svm_proba_test[:,1]"
   ]
  },
  {
   "cell_type": "code",
   "execution_count": 211,
   "metadata": {},
   "outputs": [
    {
     "data": {
      "text/html": [
       "<div>\n",
       "<style scoped>\n",
       "    .dataframe tbody tr th:only-of-type {\n",
       "        vertical-align: middle;\n",
       "    }\n",
       "\n",
       "    .dataframe tbody tr th {\n",
       "        vertical-align: top;\n",
       "    }\n",
       "\n",
       "    .dataframe thead th {\n",
       "        text-align: right;\n",
       "    }\n",
       "</style>\n",
       "<table border=\"1\" class=\"dataframe\">\n",
       "  <thead>\n",
       "    <tr style=\"text-align: right;\">\n",
       "      <th></th>\n",
       "      <th>Unnamed: 0</th>\n",
       "      <th>date</th>\n",
       "      <th>text</th>\n",
       "      <th>topic</th>\n",
       "      <th>tokens</th>\n",
       "      <th>change</th>\n",
       "      <th>nextday</th>\n",
       "      <th>change_i</th>\n",
       "      <th>nextday_i</th>\n",
       "      <th>volume_ratio</th>\n",
       "      <th>label</th>\n",
       "      <th>proba</th>\n",
       "    </tr>\n",
       "  </thead>\n",
       "  <tbody>\n",
       "    <tr>\n",
       "      <th>349</th>\n",
       "      <td>964</td>\n",
       "      <td>2010-07-16</td>\n",
       "      <td>Goldman Settles Its Battle With SEC Goldman Sa...</td>\n",
       "      <td>BUSINESS</td>\n",
       "      <td>goldman settle battle sec goldman sachs agree ...</td>\n",
       "      <td>0.6542</td>\n",
       "      <td>-0.3352</td>\n",
       "      <td>-2.8819</td>\n",
       "      <td>0.5982</td>\n",
       "      <td>2.72</td>\n",
       "      <td>1.0</td>\n",
       "      <td>0.524643</td>\n",
       "    </tr>\n",
       "    <tr>\n",
       "      <th>350</th>\n",
       "      <td>376</td>\n",
       "      <td>2019-07-12</td>\n",
       "      <td>VW Ups Its Investment in Ford’s Self-Driving C...</td>\n",
       "      <td>AUTOS</td>\n",
       "      <td>vw ups investment ford self drive car unit vol...</td>\n",
       "      <td>2.9441</td>\n",
       "      <td>-0.6673</td>\n",
       "      <td>0.4620</td>\n",
       "      <td>0.0176</td>\n",
       "      <td>1.34</td>\n",
       "      <td>1.0</td>\n",
       "      <td>0.482361</td>\n",
       "    </tr>\n",
       "    <tr>\n",
       "      <th>351</th>\n",
       "      <td>679</td>\n",
       "      <td>2016-01-20</td>\n",
       "      <td>IBM Revenue Slides, but Cloud Business Grows I...</td>\n",
       "      <td>TECH</td>\n",
       "      <td>ibm revenue slide cloud business grow ibm say ...</td>\n",
       "      <td>-4.8786</td>\n",
       "      <td>0.8616</td>\n",
       "      <td>-1.1694</td>\n",
       "      <td>0.5195</td>\n",
       "      <td>2.59</td>\n",
       "      <td>0.0</td>\n",
       "      <td>0.470080</td>\n",
       "    </tr>\n",
       "    <tr>\n",
       "      <th>352</th>\n",
       "      <td>600</td>\n",
       "      <td>2010-10-06</td>\n",
       "      <td>Geely Wants to Sell Chinese Cars In Europe Gee...</td>\n",
       "      <td>AUTOS - INDUSTRY</td>\n",
       "      <td>geely want sell chinese car europe geely chine...</td>\n",
       "      <td>1.7679</td>\n",
       "      <td>0.6042</td>\n",
       "      <td>-0.0672</td>\n",
       "      <td>-0.1647</td>\n",
       "      <td>1.62</td>\n",
       "      <td>1.0</td>\n",
       "      <td>0.486540</td>\n",
       "    </tr>\n",
       "    <tr>\n",
       "      <th>353</th>\n",
       "      <td>780</td>\n",
       "      <td>2017-01-31</td>\n",
       "      <td>Goldman’s Blankfein Gives a Wall Street Voice ...</td>\n",
       "      <td>MARKETS</td>\n",
       "      <td>goldman blankfein give wall street voice immig...</td>\n",
       "      <td>-1.9581</td>\n",
       "      <td>0.5887</td>\n",
       "      <td>-0.0890</td>\n",
       "      <td>0.0298</td>\n",
       "      <td>1.14</td>\n",
       "      <td>0.0</td>\n",
       "      <td>0.553010</td>\n",
       "    </tr>\n",
       "  </tbody>\n",
       "</table>\n",
       "</div>"
      ],
      "text/plain": [
       "     Unnamed: 0        date  \\\n",
       "349         964  2010-07-16   \n",
       "350         376  2019-07-12   \n",
       "351         679  2016-01-20   \n",
       "352         600  2010-10-06   \n",
       "353         780  2017-01-31   \n",
       "\n",
       "                                                  text             topic  \\\n",
       "349  Goldman Settles Its Battle With SEC Goldman Sa...          BUSINESS   \n",
       "350  VW Ups Its Investment in Ford’s Self-Driving C...             AUTOS   \n",
       "351  IBM Revenue Slides, but Cloud Business Grows I...              TECH   \n",
       "352  Geely Wants to Sell Chinese Cars In Europe Gee...  AUTOS - INDUSTRY   \n",
       "353  Goldman’s Blankfein Gives a Wall Street Voice ...           MARKETS   \n",
       "\n",
       "                                                tokens  change  nextday  \\\n",
       "349  goldman settle battle sec goldman sachs agree ...  0.6542  -0.3352   \n",
       "350  vw ups investment ford self drive car unit vol...  2.9441  -0.6673   \n",
       "351  ibm revenue slide cloud business grow ibm say ... -4.8786   0.8616   \n",
       "352  geely want sell chinese car europe geely chine...  1.7679   0.6042   \n",
       "353  goldman blankfein give wall street voice immig... -1.9581   0.5887   \n",
       "\n",
       "     change_i  nextday_i  volume_ratio  label     proba  \n",
       "349   -2.8819     0.5982          2.72    1.0  0.524643  \n",
       "350    0.4620     0.0176          1.34    1.0  0.482361  \n",
       "351   -1.1694     0.5195          2.59    0.0  0.470080  \n",
       "352   -0.0672    -0.1647          1.62    1.0  0.486540  \n",
       "353   -0.0890     0.0298          1.14    0.0  0.553010  "
      ]
     },
     "execution_count": 211,
     "metadata": {},
     "output_type": "execute_result"
    }
   ],
   "source": [
    "test_mod.tail()"
   ]
  },
  {
   "cell_type": "code",
   "execution_count": 5,
   "metadata": {},
   "outputs": [],
   "source": [
    "from nltk.sentiment.sentiment_analyzer import SentimentAnalyzer\n"
   ]
  },
  {
   "cell_type": "code",
   "execution_count": 6,
   "metadata": {},
   "outputs": [
    {
     "ename": "NameError",
     "evalue": "name 'NaiveBayesClassifier' is not defined",
     "output_type": "error",
     "traceback": [
      "\u001b[0;31m---------------------------------------------------------------------------\u001b[0m",
      "\u001b[0;31mNameError\u001b[0m                                 Traceback (most recent call last)",
      "\u001b[0;32m<ipython-input-6-fb338467ae6b>\u001b[0m in \u001b[0;36m<module>\u001b[0;34m\u001b[0m\n\u001b[1;32m      1\u001b[0m \u001b[0msenti\u001b[0m \u001b[0;34m=\u001b[0m \u001b[0mSentimentAnalyzer\u001b[0m\u001b[0;34m(\u001b[0m\u001b[0;34m)\u001b[0m\u001b[0;34m\u001b[0m\u001b[0;34m\u001b[0m\u001b[0m\n\u001b[0;32m----> 2\u001b[0;31m \u001b[0msenti\u001b[0m\u001b[0;34m.\u001b[0m\u001b[0mtrain\u001b[0m\u001b[0;34m(\u001b[0m\u001b[0mNaiveBayesClassifier\u001b[0m\u001b[0;34m.\u001b[0m\u001b[0mtrain\u001b[0m\u001b[0;34m,\u001b[0m \u001b[0mtrain_features\u001b[0m\u001b[0;34m)\u001b[0m\u001b[0;34m\u001b[0m\u001b[0;34m\u001b[0m\u001b[0m\n\u001b[0m\u001b[1;32m      3\u001b[0m \u001b[0msenti\u001b[0m\u001b[0;34m(\u001b[0m\u001b[0mtest_features\u001b[0m\u001b[0;34m)\u001b[0m\u001b[0;34m\u001b[0m\u001b[0;34m\u001b[0m\u001b[0m\n",
      "\u001b[0;31mNameError\u001b[0m: name 'NaiveBayesClassifier' is not defined"
     ]
    }
   ],
   "source": [
    "senti = SentimentAnalyzer()\n",
    "senti.train(NaiveBayesClassifier.train, train_features)\n",
    "senti(test_features)"
   ]
  },
  {
   "cell_type": "code",
   "execution_count": 4,
   "metadata": {},
   "outputs": [
    {
     "name": "stdout",
     "output_type": "stream",
     "text": [
      "Object `senti.train()` not found.\n"
     ]
    }
   ],
   "source": [
    "?senti.train()"
   ]
  },
  {
   "cell_type": "code",
   "execution_count": 180,
   "metadata": {},
   "outputs": [],
   "source": []
  },
  {
   "cell_type": "code",
   "execution_count": 156,
   "metadata": {},
   "outputs": [],
   "source": []
  }
 ],
 "metadata": {
  "kernelspec": {
   "display_name": "Python 3",
   "language": "python",
   "name": "python3"
  },
  "language_info": {
   "codemirror_mode": {
    "name": "ipython",
    "version": 3
   },
   "file_extension": ".py",
   "mimetype": "text/x-python",
   "name": "python",
   "nbconvert_exporter": "python",
   "pygments_lexer": "ipython3",
   "version": "3.7.1"
  },
  "varInspector": {
   "cols": {
    "lenName": 16,
    "lenType": 16,
    "lenVar": 40
   },
   "kernels_config": {
    "python": {
     "delete_cmd_postfix": "",
     "delete_cmd_prefix": "del ",
     "library": "var_list.py",
     "varRefreshCmd": "print(var_dic_list())"
    },
    "r": {
     "delete_cmd_postfix": ") ",
     "delete_cmd_prefix": "rm(",
     "library": "var_list.r",
     "varRefreshCmd": "cat(var_dic_list()) "
    }
   },
   "types_to_exclude": [
    "module",
    "function",
    "builtin_function_or_method",
    "instance",
    "_Feature"
   ],
   "window_display": false
  }
 },
 "nbformat": 4,
 "nbformat_minor": 2
}
